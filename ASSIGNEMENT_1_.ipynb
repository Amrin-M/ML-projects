{
  "nbformat": 4,
  "nbformat_minor": 0,
  "metadata": {
    "colab": {
      "name": "ASSIGNEMENT 1 .ipynb",
      "provenance": []
    },
    "kernelspec": {
      "name": "python3",
      "display_name": "Python 3"
    },
    "language_info": {
      "name": "python"
    }
  },
  "cells": [
    {
      "cell_type": "markdown",
      "metadata": {
        "id": "GcOfn9GcqV9z"
      },
      "source": [
        "ASSIGNEMENT 1 \n",
        "M AMRIN SULTANA\n",
        "PONDICHERRY ENGINEERING COLLEGE"
      ]
    },
    {
      "cell_type": "markdown",
      "metadata": {
        "id": "mVlI9jLXHsEQ"
      },
      "source": [
        "1.Write a python function which should be capable of finding the factorial of any given number as an\n",
        "argument."
      ]
    },
    {
      "cell_type": "code",
      "metadata": {
        "colab": {
          "base_uri": "https://localhost:8080/"
        },
        "id": "q-ykB14jF6Eh",
        "outputId": "b082b3be-2b71-4326-81a0-44062aff48cc"
      },
      "source": [
        "def factorial_of_number(number):\n",
        "  fact=1\n",
        "  for i in range(1,number+1):\n",
        "      fact=fact*i\n",
        "  return fact\n",
        " \n",
        "print(factorial_of_number(10))"
      ],
      "execution_count": 2,
      "outputs": [
        {
          "output_type": "stream",
          "name": "stdout",
          "text": [
            "3628800\n"
          ]
        }
      ]
    },
    {
      "cell_type": "markdown",
      "metadata": {
        "id": "WDttGm9JIEJC"
      },
      "source": [
        "2. Luke Skywalker has family and friends. Help him remind them who is who. Given a string with a\n",
        "name, return the relation of that person to Luke.\n"
      ]
    },
    {
      "cell_type": "code",
      "metadata": {
        "colab": {
          "base_uri": "https://localhost:8080/"
        },
        "id": "us8Pr7P8HpW3",
        "outputId": "28197b18-c5f4-4577-8b7b-de3a0a35fcb7"
      },
      "source": [
        "def relations_of_luke(r_name):\n",
        "    relations={'Darth Vader':'father','Lela':'sister','Han':'brother in law','R2D2':'droid'}\n",
        "    return relations[r_name]\n",
        " \n",
        "print(\"Luke, I am your \"+ relations_of_luke('Lela'))"
      ],
      "execution_count": 5,
      "outputs": [
        {
          "output_type": "stream",
          "name": "stdout",
          "text": [
            "Luke, I am your sister\n"
          ]
        }
      ]
    },
    {
      "cell_type": "markdown",
      "metadata": {
        "id": "O6bkvk7RIpio"
      },
      "source": [
        "3. Create a function which takes a number as its argument and return the number of digits in it. Use\n",
        "of len function is not allowed. For example for 5 it should return 1, for 32 it should return 2 and 123 ,\n",
        "3 should be returned and so on."
      ]
    },
    {
      "cell_type": "code",
      "metadata": {
        "colab": {
          "base_uri": "https://localhost:8080/"
        },
        "id": "vIANNs2xIsgI",
        "outputId": "adff50b0-0e54-41df-db23-890a98fb9808"
      },
      "source": [
        "def number_of_digits(number):\n",
        "    temp=number\n",
        "    count=0\n",
        "    while(temp>0):\n",
        "        x=temp%10\n",
        "        count+=1\n",
        "        temp=temp//10\n",
        "        \n",
        "    return count\n",
        " \n",
        "print(number_of_digits(1234567890987654321))"
      ],
      "execution_count": 7,
      "outputs": [
        {
          "output_type": "stream",
          "name": "stdout",
          "text": [
            "19\n"
          ]
        }
      ]
    },
    {
      "cell_type": "markdown",
      "metadata": {
        "id": "5Bkqvkh7o1TR"
      },
      "source": [
        "4. Write a function which takes a number as argument suppose 5 and gives results as multiplication\n",
        "of factorial of each positive number less than or equal to the number given. i.e !5*!4*!3*!2*!1 =\n",
        "34560"
      ]
    },
    {
      "cell_type": "code",
      "metadata": {
        "colab": {
          "base_uri": "https://localhost:8080/"
        },
        "id": "0zjRoM0zJlsd",
        "outputId": "1120608c-4044-4e5c-85c9-f88a00dc7101"
      },
      "source": [
        "def factorial_of_number(number):\n",
        "  fact=1\n",
        "  for i in range(1,number+1):\n",
        "      fact=fact*i\n",
        "  return fact\n",
        "def multiplication_of_factorials(value):\n",
        "    temp=value\n",
        "    result=1\n",
        "    while(temp>0):\n",
        "        current=factorial_of_number(temp)\n",
        "        result=result*current\n",
        "        temp-=1\n",
        "    return result\n",
        " \n",
        "print(multiplication_of_factorials(6))"
      ],
      "execution_count": 9,
      "outputs": [
        {
          "output_type": "stream",
          "name": "stdout",
          "text": [
            "24883200\n"
          ]
        }
      ]
    },
    {
      "cell_type": "markdown",
      "metadata": {
        "id": "yihMN5hMKUaM"
      },
      "source": [
        "5.  Write a function which takes any number of arguments from a user and return the result which\n",
        "should be output of a2 + b2+ c2+… if a , b ,c are numbers supplied ..i.e if 1,2,3 are supplied then result\n",
        "returned should be 14. But user may supply any number of inputs so make the function to adapt to\n",
        "that."
      ]
    },
    {
      "cell_type": "code",
      "metadata": {
        "colab": {
          "base_uri": "https://localhost:8080/"
        },
        "id": "TtSFtpwDKj0Y",
        "outputId": "33d34a9e-e1a3-4eac-a7c4-b85eaaa841b2"
      },
      "source": [
        "def random_args(*argv):\n",
        "    result=0\n",
        "    for number in argv:\n",
        "        temp=number**2\n",
        "        result=result+temp\n",
        "    return result\n",
        " \n",
        "print(random_args(1,2,3,4,5,6,7))"
      ],
      "execution_count": 87,
      "outputs": [
        {
          "output_type": "stream",
          "name": "stdout",
          "text": [
            "140\n"
          ]
        }
      ]
    },
    {
      "cell_type": "markdown",
      "metadata": {
        "id": "lxBX6zhDLO-6"
      },
      "source": [
        "6. Write a function which accepts 3 arguments from the user.1 .number 1, 2. Number2 and 3. An\n",
        "operation. The operation supported should be +, -, *, and /. The function should return the result of\n",
        "given operation. For example arguments are 3,2,+ then result returned should be 5."
      ]
    },
    {
      "cell_type": "code",
      "metadata": {
        "colab": {
          "base_uri": "https://localhost:8080/"
        },
        "id": "QOUrf5bULTqC",
        "outputId": "6a194909-6ddb-4355-caf8-1ea3042227ad"
      },
      "source": [
        "def args_operation(value1,value2,value3,operator):\n",
        "    if(operator not in ['+','-','*','/']):\n",
        "        return \n",
        "    else:\n",
        "        if(operator=='+'):\n",
        "            return value1+value2+value3\n",
        "        elif(operator=='-'):\n",
        "            return value1-value2-value3\n",
        "        elif(operator=='*'):\n",
        "            return value1*value2*value3\n",
        "        elif(operator=='/'):\n",
        "            return value1/value2/value3\n",
        " \n",
        "print(args_operation(5,8,2,'*'))\n",
        "print(args_operation(3,8,9,'+'))\n",
        "print(args_operation(15,8,2,'-'))\n",
        "print(args_operation(75,13,2,'/'))\n",
        "print(args_operation(4,2,8,'^'))"
      ],
      "execution_count": 93,
      "outputs": [
        {
          "output_type": "stream",
          "name": "stdout",
          "text": [
            "80\n",
            "20\n",
            "5\n",
            "2.8846153846153846\n",
            "None\n"
          ]
        }
      ]
    },
    {
      "cell_type": "markdown",
      "metadata": {
        "id": "BEmDbZhvMpe6"
      },
      "source": [
        "7. Write a function which takes an argument which should be a numeric +ve integer. Depending on\n",
        "the input supplied you have to print “I CAN”, “I WILL”. Suppose some one enters argument as 1 then\n",
        "only “I CAN” should be printed. But if some one enters 2 then first “I CAN” should be printed then “I\n",
        "WILL”. And if someone enters 3 then following should be printed in corresponding order: “I CAN”, “I\n",
        "WILL”, “I CAN” and so on for any numbers entered."
      ]
    },
    {
      "cell_type": "code",
      "metadata": {
        "colab": {
          "base_uri": "https://localhost:8080/"
        },
        "id": "CBgkGHkFMvb9",
        "outputId": "2bd38052-0224-44de-eb08-e44577caa93a"
      },
      "source": [
        "def I_CAN_I_WILL(value):\n",
        "    temp=value\n",
        "    num=0\n",
        "    while(temp>0):\n",
        "        if(num==0):\n",
        "          print(\"I CAN\",end=' ')\n",
        "          num=1\n",
        "        else:\n",
        "            print(\"I WILL\",end=' ')\n",
        "            num=0\n",
        "        temp-=1\n",
        " \n",
        "I_CAN_I_WILL(10)"
      ],
      "execution_count": 18,
      "outputs": [
        {
          "output_type": "stream",
          "name": "stdout",
          "text": [
            "I CAN I WILL I CAN I WILL I CAN I WILL I CAN I WILL I CAN I WILL "
          ]
        }
      ]
    },
    {
      "cell_type": "markdown",
      "metadata": {
        "id": "KhrQzaVGP5Ik"
      },
      "source": [
        "8. We have been given a list of whole numbers which represents the color of each gloves, determine\n",
        "how many pairs of gloves with matching colors there are. For example, there are 7 gloves with\n",
        "colors [1, 2, 1, 2, 1, 3, 2]. There is one pair of color 1 and one of color 2. There are three odd gloves\n",
        "left, one of each color. The number of pairs is 2. Create a function that returns an integer representing\n",
        "the number of matching pairs of gloves that are available."
      ]
    },
    {
      "cell_type": "code",
      "metadata": {
        "colab": {
          "base_uri": "https://localhost:8080/"
        },
        "id": "vALjRu7fQAoF",
        "outputId": "f4186e50-53fd-4d0b-b4f1-124b9cc4b76b"
      },
      "source": [
        "def gloves():\n",
        "  list = [1,1,2,4,2,3,6,4,3]\n",
        "  newlist = sorted(list)\n",
        "  count =0 \n",
        "  i=0\n",
        "  while(i<len(newlist)-1):\n",
        "    if newlist[i+1]-newlist[i] == 0:\n",
        "      count+=1\n",
        "      i+=2\n",
        "    else:\n",
        "      i+=1 \n",
        "  return count     \n",
        "\n",
        "\n",
        "print(gloves())    "
      ],
      "execution_count": 86,
      "outputs": [
        {
          "output_type": "stream",
          "name": "stdout",
          "text": [
            "4\n"
          ]
        }
      ]
    },
    {
      "cell_type": "markdown",
      "metadata": {
        "id": "VXZSG90gQB-Q"
      },
      "source": [
        "9. Write a function that returns True if two arrays, when combined, form a consecutive sequence. A\n",
        "consecutive sequence is a sequence without any gaps in the integers, e.g. 1, 2, 3, 4, 5 is a\n",
        "consecutive sequence, but 1, 2, 4, 5 is not."
      ]
    },
    {
      "cell_type": "code",
      "metadata": {
        "colab": {
          "base_uri": "https://localhost:8080/"
        },
        "id": "PuqBls9-QRbx",
        "outputId": "10ddaa5a-effb-46bf-cef2-b3a54f555667"
      },
      "source": [
        "def consecutive_elements(arr):\n",
        "  length = len(arr)\n",
        "  if length<=1:\n",
        "    return True\n",
        "  maximum = max(arr)\n",
        "  minimum = min(arr)\n",
        "  if maximum - minimum != length-1:\n",
        "    return False\n",
        "  elements = list()\n",
        "  for i in arr:\n",
        "    if i in elements:\n",
        "      return False\n",
        "    elements.append(i)    \n",
        "  return True\n",
        "\n",
        "\n",
        "arr1 = [2,1,4,3,6] \n",
        "arr2 = [5,8,0,-1] \n",
        "result = arr1 + arr2  \n",
        "print(consecutive_elements(result))\n"
      ],
      "execution_count": 36,
      "outputs": [
        {
          "output_type": "stream",
          "name": "stdout",
          "text": [
            "False\n"
          ]
        }
      ]
    },
    {
      "cell_type": "markdown",
      "metadata": {
        "id": "xIaDuF00T7AQ"
      },
      "source": [
        "10. You work for a manufacturer, and have been asked to calculate the total profit made on the sales\n",
        "of a product. You are given a dictionary containing the cost price per unit (in dollars), sell price per\n",
        "unit (in dollars), and the starting inventory. Return the total profit made, rounded to the nearest\n",
        "dollar."
      ]
    },
    {
      "cell_type": "code",
      "metadata": {
        "colab": {
          "base_uri": "https://localhost:8080/"
        },
        "id": "jjgRVmiWT-58",
        "outputId": "f3873412-90f0-4245-c160-1a3d94f94095"
      },
      "source": [
        "def sales_profit(dict):\n",
        "  profit = int((dict['sell_price']-dict['cost_price']) * dict['inventory'])\n",
        "  return profit\n",
        "\n",
        "print(sales_profit({\"cost_price\": 32.67,\n",
        "  \"sell_price\": 45.00,\n",
        "  \"inventory\": 1200}))\n",
        "\n",
        "print(sales_profit({\"cost_price\": 30.78,\n",
        "  \"sell_price\": 86.22,\n",
        "  \"inventory\": 2000}))\n",
        "print(sales_profit({\"cost_price\": 21.66,\n",
        "  \"sell_price\": 78,\n",
        "  \"inventory\": 800}))\n",
        "  "
      ],
      "execution_count": 42,
      "outputs": [
        {
          "output_type": "stream",
          "name": "stdout",
          "text": [
            "14795\n",
            "110880\n",
            "45072\n"
          ]
        }
      ]
    }
  ]
}